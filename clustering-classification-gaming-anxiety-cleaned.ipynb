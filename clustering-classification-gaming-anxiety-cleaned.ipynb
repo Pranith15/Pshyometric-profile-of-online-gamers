{
 "cells": [
  {
   "cell_type": "markdown",
   "id": "7727aa7b",
   "metadata": {},
   "source": [
    "# Psychometric Profiling of Online Gamers from Anxiety and Behavioural Patterns"
   ]
  },
  {
   "cell_type": "markdown",
   "id": "e2bd4a27",
   "metadata": {
    "id": "nV3ByuC3JRLa",
    "papermill": {
     "duration": 0.016507,
     "end_time": "2024-08-01T20:47:31.213761",
     "exception": false,
     "start_time": "2024-08-01T20:47:31.197254",
     "status": "completed"
    },
    "tags": []
   },
   "source": [
    "## **Import Libraries**"
   ]
  },
  {
   "cell_type": "code",
   "execution_count": null,
   "id": "695b09e4",
   "metadata": {
    "execution": {
     "iopub.execute_input": "2024-08-01T20:47:31.248882Z",
     "iopub.status.busy": "2024-08-01T20:47:31.248476Z",
     "iopub.status.idle": "2024-08-01T20:47:34.497299Z",
     "shell.execute_reply": "2024-08-01T20:47:34.496012Z"
    },
    "id": "sy3yayVEJPU0",
    "papermill": {
     "duration": 3.269302,
     "end_time": "2024-08-01T20:47:34.500026",
     "exception": false,
     "start_time": "2024-08-01T20:47:31.230724",
     "status": "completed"
    },
    "tags": []
   },
   "outputs": [],
   "source": [
    "import numpy as np\n",
    "import matplotlib.pyplot as plt\n",
    "import pandas as pd\n",
    "import seaborn as sns\n",
    "import plotly.express as px\n",
    "\n",
    "from sklearn.metrics import accuracy_score,confusion_matrix,classification_report,precision_score,recall_score,f1_score"
   ]
  },
  {
   "cell_type": "markdown",
   "id": "77e8dbda",
   "metadata": {
    "id": "hGIsZAA2KQdE",
    "papermill": {
     "duration": 0.015752,
     "end_time": "2024-08-01T20:47:34.531964",
     "exception": false,
     "start_time": "2024-08-01T20:47:34.516212",
     "status": "completed"
    },
    "tags": []
   },
   "source": [
    "## **Uploading Data**"
   ]
  },
  {
   "cell_type": "code",
   "execution_count": null,
   "id": "a1fb093c",
   "metadata": {
    "execution": {
     "iopub.execute_input": "2024-08-01T20:47:34.565960Z",
     "iopub.status.busy": "2024-08-01T20:47:34.565333Z",
     "iopub.status.idle": "2024-08-01T20:47:34.780479Z",
     "shell.execute_reply": "2024-08-01T20:47:34.779345Z"
    },
    "id": "K1vKgYz_Kcw1",
    "papermill": {
     "duration": 0.235334,
     "end_time": "2024-08-01T20:47:34.783336",
     "exception": false,
     "start_time": "2024-08-01T20:47:34.548002",
     "status": "completed"
    },
    "tags": []
   },
   "outputs": [],
   "source": [
    "df = pd.read_csv('Datasets/GamingStudy_data.csv', encoding = 'ISO-8859-1')"
   ]
  },
  {
   "cell_type": "code",
   "execution_count": null,
   "id": "9c4e7c59",
   "metadata": {
    "execution": {
     "iopub.execute_input": "2024-08-01T20:47:34.850380Z",
     "iopub.status.busy": "2024-08-01T20:47:34.849954Z",
     "iopub.status.idle": "2024-08-01T20:47:34.895040Z",
     "shell.execute_reply": "2024-08-01T20:47:34.893918Z"
    },
    "id": "U1dOVxAiNI4F",
    "outputId": "9aa516fa-d167-4415-c10a-8d184057ed90",
    "papermill": {
     "duration": 0.0653,
     "end_time": "2024-08-01T20:47:34.897718",
     "exception": false,
     "start_time": "2024-08-01T20:47:34.832418",
     "status": "completed"
    },
    "tags": []
   },
   "outputs": [],
   "source": [
    "df.head()"
   ]
  },
  {
   "cell_type": "code",
   "execution_count": null,
   "id": "6982630d",
   "metadata": {
    "execution": {
     "iopub.execute_input": "2024-08-01T20:47:34.933385Z",
     "iopub.status.busy": "2024-08-01T20:47:34.932594Z",
     "iopub.status.idle": "2024-08-01T20:47:34.982412Z",
     "shell.execute_reply": "2024-08-01T20:47:34.980502Z"
    },
    "id": "Cy63Pux7NSy0",
    "outputId": "7e8cc8bd-cc60-4db3-f65d-86581bdf591c",
    "papermill": {
     "duration": 0.071249,
     "end_time": "2024-08-01T20:47:34.985728",
     "exception": false,
     "start_time": "2024-08-01T20:47:34.914479",
     "status": "completed"
    },
    "tags": []
   },
   "outputs": [],
   "source": [
    "df.info()"
   ]
  },
  {
   "cell_type": "markdown",
   "id": "5ff61a1c",
   "metadata": {
    "id": "VKVhrVkFa-5x",
    "papermill": {
     "duration": 0.016486,
     "end_time": "2024-08-01T20:47:35.019388",
     "exception": false,
     "start_time": "2024-08-01T20:47:35.002902",
     "status": "completed"
    },
    "tags": []
   },
   "source": [
    "# **EDA**"
   ]
  },
  {
   "cell_type": "code",
   "execution_count": null,
   "id": "cba6e28f",
   "metadata": {
    "execution": {
     "iopub.execute_input": "2024-08-01T20:47:35.054673Z",
     "iopub.status.busy": "2024-08-01T20:47:35.054272Z",
     "iopub.status.idle": "2024-08-01T20:47:37.032168Z",
     "shell.execute_reply": "2024-08-01T20:47:37.031116Z"
    },
    "id": "maj8zQmaa-aV",
    "outputId": "ece77e24-cda2-4e2c-cd77-3c0aa22118d0",
    "papermill": {
     "duration": 2.006576,
     "end_time": "2024-08-01T20:47:37.042828",
     "exception": false,
     "start_time": "2024-08-01T20:47:35.036252",
     "status": "completed"
    },
    "tags": []
   },
   "outputs": [],
   "source": [
    "px.scatter(df, x=\"Hours\", y=\"Work\")\n"
   ]
  },
  {
   "cell_type": "markdown",
   "id": "7fca514c",
   "metadata": {
    "id": "Hyq1vdxnNpgE",
    "papermill": {
     "duration": 0.024143,
     "end_time": "2024-08-01T20:47:37.397142",
     "exception": false,
     "start_time": "2024-08-01T20:47:37.372999",
     "status": "completed"
    },
    "tags": []
   },
   "source": [
    "# **Data Preparation and Cleaning**"
   ]
  },
  {
   "cell_type": "code",
   "execution_count": null,
   "id": "99c0daf0",
   "metadata": {
    "execution": {
     "iopub.execute_input": "2024-08-01T20:47:37.447972Z",
     "iopub.status.busy": "2024-08-01T20:47:37.447572Z",
     "iopub.status.idle": "2024-08-01T20:47:37.458215Z",
     "shell.execute_reply": "2024-08-01T20:47:37.456716Z"
    },
    "id": "yNRoxbz9NT58",
    "outputId": "420a9606-0a96-4da3-b01a-4ce46b66af91",
    "papermill": {
     "duration": 0.042771,
     "end_time": "2024-08-01T20:47:37.464485",
     "exception": false,
     "start_time": "2024-08-01T20:47:37.421714",
     "status": "completed"
    },
    "tags": []
   },
   "outputs": [],
   "source": [
    "df['highestleague'].value_counts()"
   ]
  },
  {
   "cell_type": "code",
   "execution_count": null,
   "id": "dc908089",
   "metadata": {
    "execution": {
     "iopub.execute_input": "2024-08-01T20:47:37.531647Z",
     "iopub.status.busy": "2024-08-01T20:47:37.530031Z",
     "iopub.status.idle": "2024-08-01T20:47:37.540005Z",
     "shell.execute_reply": "2024-08-01T20:47:37.538700Z"
    },
    "id": "tGiznwGrNjft",
    "papermill": {
     "duration": 0.044964,
     "end_time": "2024-08-01T20:47:37.542655",
     "exception": false,
     "start_time": "2024-08-01T20:47:37.497691",
     "status": "completed"
    },
    "tags": []
   },
   "outputs": [],
   "source": [
    "df.drop(columns = ['highestleague','S. No.'],inplace=True)"
   ]
  },
  {
   "cell_type": "code",
   "execution_count": null,
   "id": "747a3987",
   "metadata": {
    "execution": {
     "iopub.execute_input": "2024-08-01T20:47:37.602062Z",
     "iopub.status.busy": "2024-08-01T20:47:37.601674Z",
     "iopub.status.idle": "2024-08-01T20:47:37.642137Z",
     "shell.execute_reply": "2024-08-01T20:47:37.640920Z"
    },
    "id": "mVJesgl7QiZk",
    "outputId": "f390d32b-2504-4eee-c92b-c1b32f0bcf27",
    "papermill": {
     "duration": 0.072836,
     "end_time": "2024-08-01T20:47:37.645408",
     "exception": false,
     "start_time": "2024-08-01T20:47:37.572572",
     "status": "completed"
    },
    "tags": []
   },
   "outputs": [],
   "source": [
    "df.info()"
   ]
  },
  {
   "cell_type": "markdown",
   "id": "75676f61",
   "metadata": {
    "id": "16K1aHq2RhcQ",
    "papermill": {
     "duration": 0.024325,
     "end_time": "2024-08-01T20:47:37.694343",
     "exception": false,
     "start_time": "2024-08-01T20:47:37.670018",
     "status": "completed"
    },
    "tags": []
   },
   "source": [
    "Check For Missing Values"
   ]
  },
  {
   "cell_type": "code",
   "execution_count": null,
   "id": "a12af128",
   "metadata": {
    "execution": {
     "iopub.execute_input": "2024-08-01T20:47:37.745275Z",
     "iopub.status.busy": "2024-08-01T20:47:37.744838Z",
     "iopub.status.idle": "2024-08-01T20:47:37.778100Z",
     "shell.execute_reply": "2024-08-01T20:47:37.776903Z"
    },
    "id": "g-lVsWq9Qk4U",
    "outputId": "e61cd25d-2508-4e15-d812-582281f4fcd4",
    "papermill": {
     "duration": 0.062051,
     "end_time": "2024-08-01T20:47:37.780858",
     "exception": false,
     "start_time": "2024-08-01T20:47:37.718807",
     "status": "completed"
    },
    "tags": []
   },
   "outputs": [],
   "source": [
    "df.isnull().sum()"
   ]
  },
  {
   "cell_type": "code",
   "execution_count": null,
   "id": "868bf294",
   "metadata": {
    "execution": {
     "iopub.execute_input": "2024-08-01T20:47:37.833323Z",
     "iopub.status.busy": "2024-08-01T20:47:37.832907Z",
     "iopub.status.idle": "2024-08-01T20:47:38.508114Z",
     "shell.execute_reply": "2024-08-01T20:47:38.506751Z"
    },
    "id": "yUNUSJX8WV8T",
    "outputId": "295a943b-5f9c-48a9-831e-cf3034c30a25",
    "papermill": {
     "duration": 0.704854,
     "end_time": "2024-08-01T20:47:38.510705",
     "exception": false,
     "start_time": "2024-08-01T20:47:37.805851",
     "status": "completed"
    },
    "tags": []
   },
   "outputs": [],
   "source": [
    "ms_v = df.isnull().sum()\n",
    "\n",
    "# Convert the Series to a DataFrame\n",
    "ms_v_df = ms_v.reset_index()\n",
    "ms_v_df.columns = ['Columns', 'Missing Values']\n",
    "\n",
    "# Reshape the DataFrame for the heatmap\n",
    "# Transpose and convert to a DataFrame with a single row\n",
    "ms_v_heatmap = ms_v_df.set_index('Columns').T\n",
    "\n",
    "sns.heatmap(ms_v_heatmap, annot=True, cmap='viridis')\n",
    "plt.title('Missing Values Heatmap')\n",
    "plt.show()"
   ]
  },
  {
   "cell_type": "markdown",
   "id": "d92ad952",
   "metadata": {
    "id": "lW2WrIT_ViU-",
    "papermill": {
     "duration": 0.025416,
     "end_time": "2024-08-01T20:47:38.561781",
     "exception": false,
     "start_time": "2024-08-01T20:47:38.536365",
     "status": "completed"
    },
    "tags": []
   },
   "source": [
    "## Data Cleaning"
   ]
  },
  {
   "cell_type": "code",
   "execution_count": null,
   "id": "9c452f98",
   "metadata": {
    "execution": {
     "iopub.execute_input": "2024-08-01T20:47:38.615841Z",
     "iopub.status.busy": "2024-08-01T20:47:38.615400Z",
     "iopub.status.idle": "2024-08-01T20:47:39.075337Z",
     "shell.execute_reply": "2024-08-01T20:47:39.074113Z"
    },
    "id": "G6qie2B_Q6F0",
    "papermill": {
     "duration": 0.489882,
     "end_time": "2024-08-01T20:47:39.078163",
     "exception": false,
     "start_time": "2024-08-01T20:47:38.588281",
     "status": "completed"
    },
    "tags": []
   },
   "outputs": [],
   "source": [
    "from sklearn.impute import SimpleImputer"
   ]
  },
  {
   "cell_type": "code",
   "execution_count": null,
   "id": "ab0fd566",
   "metadata": {
    "execution": {
     "iopub.execute_input": "2024-08-01T20:47:39.131648Z",
     "iopub.status.busy": "2024-08-01T20:47:39.131225Z",
     "iopub.status.idle": "2024-08-01T20:47:39.137490Z",
     "shell.execute_reply": "2024-08-01T20:47:39.136122Z"
    },
    "id": "FmPYIVvgSan2",
    "papermill": {
     "duration": 0.03637,
     "end_time": "2024-08-01T20:47:39.140311",
     "exception": false,
     "start_time": "2024-08-01T20:47:39.103941",
     "status": "completed"
    },
    "tags": []
   },
   "outputs": [],
   "source": [
    "num_col = []\n",
    "for i in range (1,18):\n",
    "  num_col.append(f\"SPIN{i}\")"
   ]
  },
  {
   "cell_type": "code",
   "execution_count": null,
   "id": "d1386a66",
   "metadata": {
    "execution": {
     "iopub.execute_input": "2024-08-01T20:47:39.195274Z",
     "iopub.status.busy": "2024-08-01T20:47:39.194473Z",
     "iopub.status.idle": "2024-08-01T20:47:39.200437Z",
     "shell.execute_reply": "2024-08-01T20:47:39.199360Z"
    },
    "id": "NMsKpwy5Ste-",
    "outputId": "77ddc150-3de0-47c5-d0f5-f5f252372a34",
    "papermill": {
     "duration": 0.035938,
     "end_time": "2024-08-01T20:47:39.203279",
     "exception": false,
     "start_time": "2024-08-01T20:47:39.167341",
     "status": "completed"
    },
    "tags": []
   },
   "outputs": [],
   "source": [
    "print(num_col)"
   ]
  },
  {
   "cell_type": "code",
   "execution_count": null,
   "id": "d9d54678",
   "metadata": {
    "execution": {
     "iopub.execute_input": "2024-08-01T20:47:39.260040Z",
     "iopub.status.busy": "2024-08-01T20:47:39.259621Z",
     "iopub.status.idle": "2024-08-01T20:47:39.264976Z",
     "shell.execute_reply": "2024-08-01T20:47:39.263819Z"
    },
    "id": "f9sAScXkTR09",
    "papermill": {
     "duration": 0.037172,
     "end_time": "2024-08-01T20:47:39.267533",
     "exception": false,
     "start_time": "2024-08-01T20:47:39.230361",
     "status": "completed"
    },
    "tags": []
   },
   "outputs": [],
   "source": [
    "additional_cols = ['Hours','streams','Narcissism','SPIN_T']"
   ]
  },
  {
   "cell_type": "code",
   "execution_count": null,
   "id": "162c7367",
   "metadata": {
    "execution": {
     "iopub.execute_input": "2024-08-01T20:47:39.385743Z",
     "iopub.status.busy": "2024-08-01T20:47:39.385327Z",
     "iopub.status.idle": "2024-08-01T20:47:39.391607Z",
     "shell.execute_reply": "2024-08-01T20:47:39.390384Z"
    },
    "id": "6zW3AHs5R1mU",
    "outputId": "87f713c1-7504-4a2e-d1f3-15ba58eafdf0",
    "papermill": {
     "duration": 0.099603,
     "end_time": "2024-08-01T20:47:39.394542",
     "exception": false,
     "start_time": "2024-08-01T20:47:39.294939",
     "status": "completed"
    },
    "tags": []
   },
   "outputs": [],
   "source": [
    "numerical_imputer = SimpleImputer(missing_values=np.nan , strategy = 'mean')\n",
    "num_col.extend(additional_cols)\n",
    "print(num_col)"
   ]
  },
  {
   "cell_type": "code",
   "execution_count": null,
   "id": "c1f1ad72",
   "metadata": {
    "execution": {
     "iopub.execute_input": "2024-08-01T20:47:39.448887Z",
     "iopub.status.busy": "2024-08-01T20:47:39.448477Z",
     "iopub.status.idle": "2024-08-01T20:47:39.736533Z",
     "shell.execute_reply": "2024-08-01T20:47:39.735300Z"
    },
    "id": "3yrSeOkvTzaE",
    "papermill": {
     "duration": 0.318818,
     "end_time": "2024-08-01T20:47:39.739650",
     "exception": false,
     "start_time": "2024-08-01T20:47:39.420832",
     "status": "completed"
    },
    "tags": []
   },
   "outputs": [],
   "source": [
    "for i in num_col:\n",
    "  df[num_col] = numerical_imputer.fit_transform(df[num_col])\n"
   ]
  },
  {
   "cell_type": "code",
   "execution_count": null,
   "id": "d2894582",
   "metadata": {
    "execution": {
     "iopub.execute_input": "2024-08-01T20:47:39.794811Z",
     "iopub.status.busy": "2024-08-01T20:47:39.794418Z",
     "iopub.status.idle": "2024-08-01T20:47:39.830163Z",
     "shell.execute_reply": "2024-08-01T20:47:39.828950Z"
    },
    "id": "pKzFwuiMUklS",
    "outputId": "599a2dc5-6ff7-4631-ed1e-c6e8a4f064eb",
    "papermill": {
     "duration": 0.066583,
     "end_time": "2024-08-01T20:47:39.832725",
     "exception": false,
     "start_time": "2024-08-01T20:47:39.766142",
     "status": "completed"
    },
    "tags": []
   },
   "outputs": [],
   "source": [
    "df.isnull().sum()"
   ]
  },
  {
   "cell_type": "markdown",
   "id": "9ac195e8",
   "metadata": {
    "id": "9hFq7OZQVQpD",
    "papermill": {
     "duration": 0.026142,
     "end_time": "2024-08-01T20:47:39.885447",
     "exception": false,
     "start_time": "2024-08-01T20:47:39.859305",
     "status": "completed"
    },
    "tags": []
   },
   "source": [
    "Solving Categorical Missing Values with Mode"
   ]
  },
  {
   "cell_type": "code",
   "execution_count": null,
   "id": "748b59d4",
   "metadata": {
    "execution": {
     "iopub.execute_input": "2024-08-01T20:47:39.941182Z",
     "iopub.status.busy": "2024-08-01T20:47:39.940762Z",
     "iopub.status.idle": "2024-08-01T20:47:39.946824Z",
     "shell.execute_reply": "2024-08-01T20:47:39.945614Z"
    },
    "id": "lVlDMvEHUI2c",
    "papermill": {
     "duration": 0.036489,
     "end_time": "2024-08-01T20:47:39.949275",
     "exception": false,
     "start_time": "2024-08-01T20:47:39.912786",
     "status": "completed"
    },
    "tags": []
   },
   "outputs": [],
   "source": [
    "categorical_imputer = SimpleImputer(missing_values=np.nan , strategy = 'most_frequent')\n",
    "categ_cols = ['GADE','League','Work','Degree','Reference','accept','Residence_ISO3','Birthplace_ISO3']"
   ]
  },
  {
   "cell_type": "code",
   "execution_count": null,
   "id": "4130acad",
   "metadata": {
    "execution": {
     "iopub.execute_input": "2024-08-01T20:47:40.003864Z",
     "iopub.status.busy": "2024-08-01T20:47:40.003471Z",
     "iopub.status.idle": "2024-08-01T20:47:40.283697Z",
     "shell.execute_reply": "2024-08-01T20:47:40.282509Z"
    },
    "id": "gcRYchzzU9ok",
    "papermill": {
     "duration": 0.310818,
     "end_time": "2024-08-01T20:47:40.286458",
     "exception": false,
     "start_time": "2024-08-01T20:47:39.975640",
     "status": "completed"
    },
    "tags": []
   },
   "outputs": [],
   "source": [
    "for i in categ_cols:\n",
    "  df[categ_cols] = categorical_imputer.fit_transform(df[categ_cols])"
   ]
  },
  {
   "cell_type": "code",
   "execution_count": null,
   "id": "d89c8083",
   "metadata": {
    "execution": {
     "iopub.execute_input": "2024-08-01T20:47:40.342280Z",
     "iopub.status.busy": "2024-08-01T20:47:40.341845Z",
     "iopub.status.idle": "2024-08-01T20:47:40.377766Z",
     "shell.execute_reply": "2024-08-01T20:47:40.376665Z"
    },
    "id": "ao-xG0vPVtqc",
    "outputId": "935d5b93-7f23-4dd9-b232-f250a4368310",
    "papermill": {
     "duration": 0.066419,
     "end_time": "2024-08-01T20:47:40.380341",
     "exception": false,
     "start_time": "2024-08-01T20:47:40.313922",
     "status": "completed"
    },
    "tags": []
   },
   "outputs": [],
   "source": [
    "df.isnull().sum()"
   ]
  },
  {
   "cell_type": "code",
   "execution_count": null,
   "id": "2a07a542",
   "metadata": {
    "execution": {
     "iopub.execute_input": "2024-08-01T20:47:40.435955Z",
     "iopub.status.busy": "2024-08-01T20:47:40.435126Z",
     "iopub.status.idle": "2024-08-01T20:47:40.976141Z",
     "shell.execute_reply": "2024-08-01T20:47:40.974933Z"
    },
    "id": "NDstVGUvWRmj",
    "outputId": "edaff75e-d962-4555-e2ec-0e48ac6ef15f",
    "papermill": {
     "duration": 0.571498,
     "end_time": "2024-08-01T20:47:40.978673",
     "exception": false,
     "start_time": "2024-08-01T20:47:40.407175",
     "status": "completed"
    },
    "tags": []
   },
   "outputs": [],
   "source": [
    "ms_v = df.isnull().sum()\n",
    "\n",
    "# Convert the Series to a DataFrame\n",
    "ms_v_df = ms_v.reset_index()\n",
    "ms_v_df.columns = ['Columns', 'Missing Values']\n",
    "\n",
    "# Reshape the DataFrame for the heatmap\n",
    "# Transpose and convert to a DataFrame with a single row\n",
    "ms_v_heatmap = ms_v_df.set_index('Columns').T\n",
    "plt.figure(figsize=(12, 2))\n",
    "sns.heatmap(ms_v_heatmap, annot=True)\n",
    "plt.title('Missing Values Heatmap')\n",
    "plt.show()"
   ]
  },
  {
   "cell_type": "markdown",
   "id": "a9de3711",
   "metadata": {
    "id": "bMFxTK4Cav93",
    "papermill": {
     "duration": 0.026793,
     "end_time": "2024-08-01T20:47:41.032552",
     "exception": false,
     "start_time": "2024-08-01T20:47:41.005759",
     "status": "completed"
    },
    "tags": []
   },
   "source": [
    "**Removing Duplicates**"
   ]
  },
  {
   "cell_type": "code",
   "execution_count": null,
   "id": "ac5fcec0",
   "metadata": {
    "execution": {
     "iopub.execute_input": "2024-08-01T20:47:41.089006Z",
     "iopub.status.busy": "2024-08-01T20:47:41.088584Z",
     "iopub.status.idle": "2024-08-01T20:47:41.136117Z",
     "shell.execute_reply": "2024-08-01T20:47:41.134977Z"
    },
    "id": "cJZZUiXBYUH8",
    "papermill": {
     "duration": 0.07889,
     "end_time": "2024-08-01T20:47:41.138816",
     "exception": false,
     "start_time": "2024-08-01T20:47:41.059926",
     "status": "completed"
    },
    "tags": []
   },
   "outputs": [],
   "source": [
    "duplicated_counts=df.duplicated().sum()\n",
    "duplicated_counts"
   ]
  },
  {
   "cell_type": "code",
   "execution_count": null,
   "id": "9c790857",
   "metadata": {
    "execution": {
     "iopub.execute_input": "2024-08-01T20:47:41.460273Z",
     "iopub.status.busy": "2024-08-01T20:47:41.459835Z",
     "iopub.status.idle": "2024-08-01T20:47:41.552262Z",
     "shell.execute_reply": "2024-08-01T20:47:41.551127Z"
    },
    "id": "jLeppvrcZYGU",
    "outputId": "d68e9079-0aec-446f-cc72-29b7f07a4a54",
    "papermill": {
     "duration": 0.124706,
     "end_time": "2024-08-01T20:47:41.554688",
     "exception": false,
     "start_time": "2024-08-01T20:47:41.429982",
     "status": "completed"
    },
    "tags": []
   },
   "outputs": [],
   "source": [
    "df.drop_duplicates(inplace=True)\n",
    "df.duplicated().sum()"
   ]
  },
  {
   "cell_type": "markdown",
   "id": "60309bbe",
   "metadata": {
    "id": "M6OMZBSWcfVf",
    "papermill": {
     "duration": 0.027489,
     "end_time": "2024-08-01T20:47:41.610120",
     "exception": false,
     "start_time": "2024-08-01T20:47:41.582631",
     "status": "completed"
    },
    "tags": []
   },
   "source": [
    "  Encoding Categorical Columns"
   ]
  },
  {
   "cell_type": "code",
   "execution_count": null,
   "id": "d6cb5807",
   "metadata": {
    "execution": {
     "iopub.execute_input": "2024-08-01T20:47:41.668174Z",
     "iopub.status.busy": "2024-08-01T20:47:41.667744Z",
     "iopub.status.idle": "2024-08-01T20:47:41.707968Z",
     "shell.execute_reply": "2024-08-01T20:47:41.706563Z"
    },
    "id": "YCrHocA3cj51",
    "outputId": "5348b94b-7848-446a-a1ea-b9ce95908aa0",
    "papermill": {
     "duration": 0.073005,
     "end_time": "2024-08-01T20:47:41.710974",
     "exception": false,
     "start_time": "2024-08-01T20:47:41.637969",
     "status": "completed"
    },
    "tags": []
   },
   "outputs": [],
   "source": [
    "df.info()"
   ]
  },
  {
   "cell_type": "code",
   "execution_count": null,
   "id": "f5d8aac3",
   "metadata": {
    "execution": {
     "iopub.execute_input": "2024-08-01T20:47:41.769144Z",
     "iopub.status.busy": "2024-08-01T20:47:41.768703Z",
     "iopub.status.idle": "2024-08-01T20:47:41.782760Z",
     "shell.execute_reply": "2024-08-01T20:47:41.781664Z"
    },
    "id": "pUoyYrM8dC9H",
    "outputId": "7455db6a-a4c1-43dd-e61c-1af492a494b4",
    "papermill": {
     "duration": 0.046273,
     "end_time": "2024-08-01T20:47:41.785171",
     "exception": false,
     "start_time": "2024-08-01T20:47:41.738898",
     "status": "completed"
    },
    "tags": []
   },
   "outputs": [],
   "source": [
    "object_cols = df.select_dtypes(include='object')\n",
    "object_cols.columns"
   ]
  },
  {
   "cell_type": "code",
   "execution_count": null,
   "id": "6b68b2b5",
   "metadata": {
    "execution": {
     "iopub.execute_input": "2024-08-01T20:47:41.843562Z",
     "iopub.status.busy": "2024-08-01T20:47:41.843149Z",
     "iopub.status.idle": "2024-08-01T20:47:41.933082Z",
     "shell.execute_reply": "2024-08-01T20:47:41.931971Z"
    },
    "id": "GlxicOLlcnMJ",
    "outputId": "0405dac9-23f7-4adf-94a1-f5e972677cda",
    "papermill": {
     "duration": 0.1226,
     "end_time": "2024-08-01T20:47:41.935923",
     "exception": false,
     "start_time": "2024-08-01T20:47:41.813323",
     "status": "completed"
    },
    "tags": []
   },
   "outputs": [],
   "source": [
    "from sklearn.preprocessing import LabelEncoder\n",
    "le = LabelEncoder()\n",
    "for i in object_cols:\n",
    "  df[i] = le.fit_transform(df[i])\n",
    "df.info()"
   ]
  },
  {
   "cell_type": "markdown",
   "id": "f69e3b82",
   "metadata": {
    "id": "8m-sbj1AcG8j",
    "papermill": {
     "duration": 0.028765,
     "end_time": "2024-08-01T20:47:41.993001",
     "exception": false,
     "start_time": "2024-08-01T20:47:41.964236",
     "status": "completed"
    },
    "tags": []
   },
   "source": [
    "# Using the dendrogram to find the optimal number of clusters\n"
   ]
  },
  {
   "cell_type": "code",
   "execution_count": null,
   "id": "3598a9a3",
   "metadata": {
    "execution": {
     "iopub.execute_input": "2024-08-01T20:47:42.052970Z",
     "iopub.status.busy": "2024-08-01T20:47:42.051874Z",
     "iopub.status.idle": "2024-08-01T20:47:42.057886Z",
     "shell.execute_reply": "2024-08-01T20:47:42.056625Z"
    },
    "id": "h8RhNymVcS-0",
    "papermill": {
     "duration": 0.039034,
     "end_time": "2024-08-01T20:47:42.060580",
     "exception": false,
     "start_time": "2024-08-01T20:47:42.021546",
     "status": "completed"
    },
    "tags": []
   },
   "outputs": [],
   "source": [
    "import scipy.cluster.hierarchy as sch\n"
   ]
  },
  {
   "cell_type": "code",
   "execution_count": null,
   "id": "d5eccd7b",
   "metadata": {
    "execution": {
     "iopub.execute_input": "2024-08-01T20:47:42.121473Z",
     "iopub.status.busy": "2024-08-01T20:47:42.121057Z",
     "iopub.status.idle": "2024-08-01T20:52:11.632135Z",
     "shell.execute_reply": "2024-08-01T20:52:11.630928Z"
    },
    "id": "Yxk5qSp_cDCk",
    "outputId": "10b2f116-3f1f-4590-b3df-5a327b04722a",
    "papermill": {
     "duration": 269.575101,
     "end_time": "2024-08-01T20:52:11.664218",
     "exception": false,
     "start_time": "2024-08-01T20:47:42.089117",
     "status": "completed"
    },
    "tags": []
   },
   "outputs": [],
   "source": [
    "dendrogram = sch.dendrogram(sch.linkage(df, method = 'ward'))\n",
    "plt.title('Dendrogram')\n",
    "plt.xlabel('Gamers')\n",
    "plt.ylabel('Euclidean distances')\n",
    "plt.show()"
   ]
  },
  {
   "cell_type": "markdown",
   "id": "8e1975e2",
   "metadata": {
    "id": "3d9SENW2hZga",
    "papermill": {
     "duration": 0.028806,
     "end_time": "2024-08-01T20:52:11.779387",
     "exception": false,
     "start_time": "2024-08-01T20:52:11.750581",
     "status": "completed"
    },
    "tags": []
   },
   "source": [
    "# **Training the Hierarchical Clustering model on the dataset**"
   ]
  },
  {
   "cell_type": "code",
   "execution_count": null,
   "id": "45088505",
   "metadata": {
    "execution": {
     "iopub.execute_input": "2024-08-01T20:52:11.839995Z",
     "iopub.status.busy": "2024-08-01T20:52:11.839560Z",
     "iopub.status.idle": "2024-08-01T20:52:23.599746Z",
     "shell.execute_reply": "2024-08-01T20:52:23.598398Z"
    },
    "id": "_NK2mXvzcNvb",
    "papermill": {
     "duration": 11.794023,
     "end_time": "2024-08-01T20:52:23.602787",
     "exception": false,
     "start_time": "2024-08-01T20:52:11.808764",
     "status": "completed"
    },
    "tags": []
   },
   "outputs": [],
   "source": [
    "from sklearn.cluster import AgglomerativeClustering\n",
    "\n",
    "# Create an AgglomerativeClustering model with Ward linkage (default Euclidean)\n",
    "hc = AgglomerativeClustering(n_clusters=3, linkage='ward')\n",
    "\n",
    "# Fit and predict cluster labels\n",
    "labels_hc = hc.fit_predict(df)"
   ]
  },
  {
   "cell_type": "code",
   "execution_count": null,
   "id": "33406cf0",
   "metadata": {
    "execution": {
     "iopub.execute_input": "2024-08-01T20:52:23.662960Z",
     "iopub.status.busy": "2024-08-01T20:52:23.662558Z",
     "iopub.status.idle": "2024-08-01T20:52:23.689604Z",
     "shell.execute_reply": "2024-08-01T20:52:23.688512Z"
    },
    "id": "oUVIQxaFhgms",
    "outputId": "5a4e4844-0a42-442f-8765-1f854484268f",
    "papermill": {
     "duration": 0.059906,
     "end_time": "2024-08-01T20:52:23.692065",
     "exception": false,
     "start_time": "2024-08-01T20:52:23.632159",
     "status": "completed"
    },
    "tags": []
   },
   "outputs": [],
   "source": [
    "df['Clusters_Label'] = labels_hc\n",
    "df.head()"
   ]
  },
  {
   "cell_type": "code",
   "execution_count": null,
   "id": "653ef0cd",
   "metadata": {},
   "outputs": [],
   "source": [
    "df.info()"
   ]
  },
  {
   "cell_type": "code",
   "execution_count": null,
   "id": "c137221b",
   "metadata": {
    "execution": {
     "iopub.execute_input": "2024-08-01T20:52:23.931012Z",
     "iopub.status.busy": "2024-08-01T20:52:23.930103Z",
     "iopub.status.idle": "2024-08-01T20:52:23.940537Z",
     "shell.execute_reply": "2024-08-01T20:52:23.939490Z"
    },
    "id": "04L7ewmSj-ZD",
    "papermill": {
     "duration": 0.044227,
     "end_time": "2024-08-01T20:52:23.943181",
     "exception": false,
     "start_time": "2024-08-01T20:52:23.898954",
     "status": "completed"
    },
    "tags": []
   },
   "outputs": [],
   "source": [
    "X = df.drop(columns = ['Clusters_Label'])\n",
    "y = df['Clusters_Label']"
   ]
  },
  {
   "cell_type": "code",
   "execution_count": null,
   "id": "45c629c0",
   "metadata": {},
   "outputs": [],
   "source": [
    "labels = y.unique()\n",
    "labels"
   ]
  },
  {
   "cell_type": "code",
   "execution_count": null,
   "id": "e7a4bbb2",
   "metadata": {
    "execution": {
     "iopub.execute_input": "2024-08-01T20:52:24.004567Z",
     "iopub.status.busy": "2024-08-01T20:52:24.004098Z",
     "iopub.status.idle": "2024-08-01T20:52:24.023341Z",
     "shell.execute_reply": "2024-08-01T20:52:24.022043Z"
    },
    "id": "O7X1xvYdkTRw",
    "papermill": {
     "duration": 0.053355,
     "end_time": "2024-08-01T20:52:24.026166",
     "exception": false,
     "start_time": "2024-08-01T20:52:23.972811",
     "status": "completed"
    },
    "tags": []
   },
   "outputs": [],
   "source": [
    "from sklearn.model_selection import train_test_split\n",
    "X_train, X_test, y_train, y_test = train_test_split(X, y, test_size = 0.2, random_state = 42)"
   ]
  },
  {
   "cell_type": "markdown",
   "id": "5472b2ac",
   "metadata": {
    "id": "ZG2YngjEkLgl",
    "papermill": {
     "duration": 0.029146,
     "end_time": "2024-08-01T20:52:24.085092",
     "exception": false,
     "start_time": "2024-08-01T20:52:24.055946",
     "status": "completed"
    },
    "tags": []
   },
   "source": [
    "# **Model Building**"
   ]
  },
  {
   "cell_type": "code",
   "execution_count": null,
   "id": "1075125b",
   "metadata": {},
   "outputs": [],
   "source": [
    "#defining global variables to store accuracy and other metrics\n",
    "precision = []\n",
    "recall = []\n",
    "fscore = []\n",
    "accuracy = []"
   ]
  },
  {
   "cell_type": "code",
   "execution_count": null,
   "id": "3416cfe8",
   "metadata": {},
   "outputs": [],
   "source": [
    "def calculateMetrics(algorithm, testY, predict):\n",
    "    testY = testY.astype('int')\n",
    "    predict = predict.astype('int')\n",
    "\n",
    "    p = precision_score(testY, predict, average='macro') * 100\n",
    "    r = recall_score(testY, predict, average='macro') * 100\n",
    "    f = f1_score(testY, predict, average='macro') * 100\n",
    "    a = accuracy_score(testY, predict) * 100 \n",
    "\n",
    "    accuracy.append(a)\n",
    "    precision.append(p)\n",
    "    recall.append(r)\n",
    "    fscore.append(f)\n",
    "\n",
    "    print(algorithm + ' Accuracy    : ' + str(a))\n",
    "    print(algorithm + ' Precision   : ' + str(p))\n",
    "    print(algorithm + ' Recall      : ' + str(r))\n",
    "    print(algorithm + ' FSCORE      : ' + str(f))\n",
    "\n",
    "    # Convert labels to strings\n",
    "    labels = [str(label) for label in np.unique(testY)]\n",
    "\n",
    "    # Generate classification report\n",
    "    report = classification_report(testY, predict, target_names=labels)  # Fix order of arguments\n",
    "    print('\\n', algorithm + \" Classification Report\\n\", report)\n",
    "\n",
    "    # Confusion matrix\n",
    "    conf_matrix = confusion_matrix(testY, predict) \n",
    "    plt.figure(figsize=(5, 5)) \n",
    "    ax = sns.heatmap(conf_matrix, xticklabels=labels, yticklabels=labels, annot=True, cmap=\"Blues\", fmt=\"g\")\n",
    "    ax.set_ylim([0, len(labels)])\n",
    "    plt.title(algorithm + \" Confusion Matrix\") \n",
    "    plt.ylabel('True class') \n",
    "    plt.xlabel('Predicted class') \n",
    "    plt.show()\n"
   ]
  },
  {
   "cell_type": "code",
   "execution_count": null,
   "id": "4cbe0179",
   "metadata": {},
   "outputs": [],
   "source": [
    "from sklearn.svm import SVC\n",
    "from sklearn.preprocessing import StandardScaler\n",
    "from sklearn.metrics import accuracy_score, precision_score, recall_score, f1_score, classification_report, confusion_matrix\n",
    "import seaborn as sns\n",
    "import matplotlib.pyplot as plt\n",
    "import numpy as np\n",
    "import joblib\n",
    "import os\n",
    "\n",
    "# Standardize the dataset\n",
    "scaler = StandardScaler()      # call\n",
    "X_train_scaled = scaler.fit_transform(X_train)\n",
    "X_test_scaled = scaler.transform(X_test)\n",
    "\n",
    "# Check if the trained model exists\n",
    "if os.path.exists('model/SVC.pkl'):\n",
    "    # Load the trained model from the file\n",
    "    svc = joblib.load('model/SVC.pkl')\n",
    "    print(\"SVC Model loaded successfully.\")\n",
    "else:\n",
    "    # Train SVC model\n",
    "    svc = SVC(kernel='poly')  # You can change kernel to 'rbf', 'poly', etc.\n",
    "    svc.fit(X_train_scaled, y_train)\n",
    "\n",
    "    # Save the trained model\n",
    "    joblib.dump(svc, 'model/SVC.pkl')\n",
    "    print(\"SVC Model saved successfully.\")\n",
    "\n",
    "# Predict using SVC\n",
    "predict = svc.predict(X_test_scaled)\n",
    "calculateMetrics(\"SVC Classifier\", y_test, predict)\n"
   ]
  },
  {
   "cell_type": "code",
   "execution_count": null,
   "id": "516f7601",
   "metadata": {},
   "outputs": [],
   "source": [
    "import lightgbm as lgb\n",
    "from sklearn.preprocessing import StandardScaler\n",
    "from lightgbm import LGBMClassifier\n",
    "import joblib, os, pickle\n",
    "\n",
    "scaler = StandardScaler()\n",
    "\n",
    "X_train_scaled = scaler.fit_transform(X_train)\n",
    "X_test_scaled = scaler.transform(X_test)\n",
    "\n",
    "joblib.dump(scaler, 'model/standard_scaler.pkl')\n",
    "\n",
    "model_path = 'model/LGBMClassifier.pkl'\n",
    "\n",
    "if os.path.exists(model_path):\n",
    "    \n",
    "    lgbm = joblib.load(model_path)\n",
    "    print(\"LGBMClassifier model loaded successfully.\")\n",
    "else:\n",
    "    lgbm = LGBMClassifier()\n",
    "    lgbm.fit(X_train_scaled, y_train)\n",
    "    \n",
    "    joblib.dump(lgbm, model_path)\n",
    "    print(\"LGBMClassifier model saved successfully.\")\n",
    "\n",
    "predict = lgbm.predict(X_test_scaled)\n",
    "\n",
    "calculateMetrics(\"LGBM Classifier\", predict, y_test)"
   ]
  },
  {
   "cell_type": "code",
   "execution_count": null,
   "id": "766d10ec",
   "metadata": {},
   "outputs": [],
   "source": [
    "test = pd.read_csv('Datasets/test.csv')\n",
    "test"
   ]
  },
  {
   "cell_type": "code",
   "execution_count": null,
   "id": "5c549db4",
   "metadata": {},
   "outputs": [],
   "source": [
    "test_scaled = scaler.transform(test)\n"
   ]
  },
  {
   "cell_type": "code",
   "execution_count": null,
   "id": "50057ba5",
   "metadata": {},
   "outputs": [],
   "source": [
    "predict = lgbm.predict(test_scaled)\n",
    "predict"
   ]
  },
  {
   "cell_type": "code",
   "execution_count": null,
   "id": "c820c9ea",
   "metadata": {},
   "outputs": [],
   "source": [
    "test['Predications'] = predict\n",
    "test"
   ]
  },
  {
   "cell_type": "code",
   "execution_count": null,
   "id": "c91d992b",
   "metadata": {},
   "outputs": [],
   "source": []
  },
  {
   "cell_type": "code",
   "execution_count": null,
   "id": "11732cc5",
   "metadata": {},
   "outputs": [],
   "source": []
  },
  {
   "cell_type": "code",
   "execution_count": null,
   "id": "6d584ff8",
   "metadata": {},
   "outputs": [],
   "source": []
  }
 ],
 "metadata": {
  "colab": {
   "provenance": []
  },
  "kaggle": {
   "accelerator": "none",
   "dataSources": [
    {
     "datasetId": 820200,
     "sourceId": 1403222,
     "sourceType": "datasetVersion"
    }
   ],
   "dockerImageVersionId": 30746,
   "isGpuEnabled": false,
   "isInternetEnabled": true,
   "language": "python",
   "sourceType": "notebook"
  },
  "kernelspec": {
   "display_name": "Python 3 (ipykernel)",
   "language": "python",
   "name": "python3"
  },
  "language_info": {
   "codemirror_mode": {
    "name": "ipython",
    "version": 3
   },
   "file_extension": ".py",
   "mimetype": "text/x-python",
   "name": "python",
   "nbconvert_exporter": "python",
   "pygments_lexer": "ipython3",
   "version": "3.7.6"
  },
  "papermill": {
   "default_parameters": {},
   "duration": 299.237649,
   "end_time": "2024-08-01T20:52:27.313634",
   "environment_variables": {},
   "exception": null,
   "input_path": "__notebook__.ipynb",
   "output_path": "__notebook__.ipynb",
   "parameters": {},
   "start_time": "2024-08-01T20:47:28.075985",
   "version": "2.5.0"
  }
 },
 "nbformat": 4,
 "nbformat_minor": 5
}
